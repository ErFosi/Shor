{
 "cells": [
  {
   "cell_type": "code",
   "execution_count": 2,
   "metadata": {},
   "outputs": [
    {
     "data": {
      "text/html": [
       "<pre style=\"word-wrap: normal;white-space: pre;background: #fff0;line-height: 1.1;font-family: &quot;Courier New&quot;,Courier,monospace\">     ┌───┐     \n",
       "q_0: ┤ H ├──■──\n",
       "     └───┘┌─┴─┐\n",
       "q_1: ─────┤ X ├\n",
       "          └───┘</pre>"
      ],
      "text/plain": [
       "     ┌───┐     \n",
       "q_0: ┤ H ├──■──\n",
       "     └───┘┌─┴─┐\n",
       "q_1: ─────┤ X ├\n",
       "          └───┘"
      ]
     },
     "execution_count": 2,
     "metadata": {},
     "output_type": "execute_result"
    }
   ],
   "source": [
    "from qiskit import QuantumCircuit\n",
    " \n",
    "# Create a new circuit with two qubits (first argument) and two classical\n",
    "# bits (second argument)\n",
    "qc = QuantumCircuit(2)\n",
    " \n",
    "# Add a Hadamard gate to qubit 0\n",
    "qc.h(0)\n",
    " \n",
    "# Perform a controlled-X gate on qubit 1, controlled by qubit 0\n",
    "qc.cx(0, 1)\n",
    "# Return a drawing of the circuit using MatPlotLib (\"mpl\"). This is the\n",
    "# last line of the cell, so the drawing appears in the cell output.\n",
    "# Remove the \"mpl\" argument to get a text drawing.\n",
    "qc.draw(\"text\")"
   ]
  },
  {
   "cell_type": "markdown",
   "metadata": {},
   "source": [
    "The following code cell uses the quantum_info package to create the two-qubit Pauli operator Z on qubit 1 and Z on qubit 2. If the state is entangled, then the correlation between qubit 1 and qubit 2 is one."
   ]
  },
  {
   "cell_type": "code",
   "execution_count": 3,
   "metadata": {},
   "outputs": [],
   "source": [
    "from qiskit.quantum_info import Pauli\n",
    " \n",
    "ZZ = Pauli('ZZ')\n",
    "#Este operador representa la compuerta cuántica Z aplicada a ambos qubits, \n",
    "# lo que significa que realiza una rotación de π alrededor del eje Z en ambos qubits.\n",
    "ZI = Pauli('ZI')\n",
    "#ZI: Este operador representa la compuerta cuántica Z aplicada al primer qubit\n",
    "# y la identidad (sin operación) en el segundo qubit.\n",
    "IZ = Pauli('IZ')\n",
    "#IZ: Este operador representa la compuerta cuántica Z aplicada al segundo qubit \n",
    "# y la identidad en el primer qubit.\n",
    "XX = Pauli('XX')\n",
    "#compuerta X a ambos qbits\n",
    "XI = Pauli('XI')\n",
    "#compuerta x solo al primer qbit\n",
    "IX = Pauli('IX')\n",
    "#compuerta x solo al segundo qbit"
   ]
  },
  {
   "cell_type": "code",
   "execution_count": 2,
   "metadata": {},
   "outputs": [
    {
     "name": "stderr",
     "output_type": "stream",
     "text": [
      "C:\\Users\\adiezandino\\AppData\\Local\\Temp\\ipykernel_25492\\2592515329.py:6: DeprecationWarning: ``qiskit.algorithms`` has been migrated to an independent package: https://github.com/qiskit-community/qiskit-algorithms. The ``qiskit.algorithms`` import path is deprecated as of qiskit-terra 0.25.0 and will be removed no earlier than 3 months after the release date. Please run ``pip install qiskit_algorithms`` and use ``import qiskit_algorithms`` instead.\n",
      "  from qiskit.algorithms import Shor\n"
     ]
    },
    {
     "ename": "ImportError",
     "evalue": "cannot import name 'Shor' from 'qiskit.algorithms' (c:\\Users\\adiezandino\\OneDrive - IKERLAN S.COOP\\Documentación para TFG\\Qiskit - inicio\\qiskit\\Lib\\site-packages\\qiskit\\algorithms\\__init__.py)",
     "output_type": "error",
     "traceback": [
      "\u001b[1;31m---------------------------------------------------------------------------\u001b[0m",
      "\u001b[1;31mImportError\u001b[0m                               Traceback (most recent call last)",
      "\u001b[1;32mc:\\Users\\adiezandino\\OneDrive - IKERLAN S.COOP\\Documentación para TFG\\Qiskit - inicio\\inicio.ipynb Cell 4\u001b[0m line \u001b[0;36m6\n\u001b[0;32m      <a href='vscode-notebook-cell:/c%3A/Users/adiezandino/OneDrive%20-%20IKERLAN%20S.COOP/Documentaci%C3%B3n%20para%20TFG/Qiskit%20-%20inicio/inicio.ipynb#X41sZmlsZQ%3D%3D?line=3'>4</a>\u001b[0m \u001b[39mfrom\u001b[39;00m \u001b[39mqiskit\u001b[39;00m \u001b[39mimport\u001b[39;00m Aer\n\u001b[0;32m      <a href='vscode-notebook-cell:/c%3A/Users/adiezandino/OneDrive%20-%20IKERLAN%20S.COOP/Documentaci%C3%B3n%20para%20TFG/Qiskit%20-%20inicio/inicio.ipynb#X41sZmlsZQ%3D%3D?line=4'>5</a>\u001b[0m \u001b[39mfrom\u001b[39;00m \u001b[39mqiskit\u001b[39;00m\u001b[39m.\u001b[39;00m\u001b[39mutils\u001b[39;00m \u001b[39mimport\u001b[39;00m QuantumInstance\n\u001b[1;32m----> <a href='vscode-notebook-cell:/c%3A/Users/adiezandino/OneDrive%20-%20IKERLAN%20S.COOP/Documentaci%C3%B3n%20para%20TFG/Qiskit%20-%20inicio/inicio.ipynb#X41sZmlsZQ%3D%3D?line=5'>6</a>\u001b[0m \u001b[39mfrom\u001b[39;00m \u001b[39mqiskit\u001b[39;00m\u001b[39m.\u001b[39;00m\u001b[39malgorithms\u001b[39;00m \u001b[39mimport\u001b[39;00m Shor\n\u001b[0;32m      <a href='vscode-notebook-cell:/c%3A/Users/adiezandino/OneDrive%20-%20IKERLAN%20S.COOP/Documentaci%C3%B3n%20para%20TFG/Qiskit%20-%20inicio/inicio.ipynb#X41sZmlsZQ%3D%3D?line=6'>7</a>\u001b[0m get_ipython()\u001b[39m.\u001b[39mrun_line_magic(\u001b[39m'\u001b[39m\u001b[39mqiskit_version_table\u001b[39m\u001b[39m'\u001b[39m, \u001b[39m'\u001b[39m\u001b[39m'\u001b[39m)\n",
      "\u001b[1;31mImportError\u001b[0m: cannot import name 'Shor' from 'qiskit.algorithms' (c:\\Users\\adiezandino\\OneDrive - IKERLAN S.COOP\\Documentación para TFG\\Qiskit - inicio\\qiskit\\Lib\\site-packages\\qiskit\\algorithms\\__init__.py)"
     ]
    },
    {
     "ename": "",
     "evalue": "",
     "output_type": "error",
     "traceback": [
      "\u001b[1;31mThe Kernel crashed while executing code in the the current cell or a previous cell. Please review the code in the cell(s) to identify a possible cause of the failure. Click <a href='https://aka.ms/vscodeJupyterKernelCrash'>here</a> for more info. View Jupyter <a href='command:jupyter.viewOutput'>log</a> for further details."
     ]
    }
   ],
   "source": [
    "import qiskit.tools.jupyter\n",
    "import math\n",
    "import numpy as np\n",
    "from qiskit import Aer\n",
    "from qiskit.utils import QuantumInstance\n",
    "from qiskit.algorithms import Shor\n",
    "%qiskit_version_table"
   ]
  },
  {
   "cell_type": "code",
   "execution_count": 8,
   "metadata": {},
   "outputs": [
    {
     "data": {
      "text/plain": [
       "EstimatorResult(values=array([ 1.27795527e-02, -1.31789137e-02, -1.95686901e-02, -7.98722045e-04,\n",
       "        1.00000000e+00,  1.00000000e+00]), metadata=[{'variance': 0.9998366830323878, 'shots': 5008, 'readout_mitigation_num_twirled_circuits': 16, 'readout_mitigation_shots_calibration': 8192}, {'variance': 0.9998263162326858, 'shots': 5008, 'readout_mitigation_num_twirled_circuits': 16, 'readout_mitigation_shots_calibration': 8192}, {'variance': 0.9996170663679327, 'shots': 5008, 'readout_mitigation_num_twirled_circuits': 16, 'readout_mitigation_shots_calibration': 8192}, {'variance': 0.9999993620430953, 'shots': 5008, 'readout_mitigation_num_twirled_circuits': 16, 'readout_mitigation_shots_calibration': 8192}, {'variance': 0.0, 'shots': 5008, 'readout_mitigation_num_twirled_circuits': 16, 'readout_mitigation_shots_calibration': 8192}, {'variance': 0.0, 'shots': 5008, 'readout_mitigation_num_twirled_circuits': 16, 'readout_mitigation_shots_calibration': 8192}])"
      ]
     },
     "execution_count": 8,
     "metadata": {},
     "output_type": "execute_result"
    }
   ],
   "source": [
    "from qiskit_ibm_runtime import QiskitRuntimeService, Estimator, Options\n",
    "from qiskit_ibm_runtime import QiskitRuntimeService\n",
    " \n",
    "# Save an IBM Quantum account.\n",
    "#QiskitRuntimeService.save_account(channel=\"ibm_quantum\", token=\"fd7358cdc877ebaf1fbec2fe1d431189c1e6d0e1ef005c8ca5cd8969e1428bf8fdf01e7ea6aa4823d81fcf8a9c1aed3285a07ab71e70494a44815b0ae7ad73d7\")\n",
    "service = QiskitRuntimeService()\n",
    " \n",
    "# Run on the least-busy backend you have access to\n",
    "backend = service.least_busy(simulator=True, operational=True)\n",
    " \n",
    "options = Options()\n",
    "options.resilience_level = 1\n",
    "options.optimization_level = 3\n",
    " \n",
    "# Create a Sampler object\n",
    "estimator = Estimator(backend, options=options)\n",
    " \n",
    "# Submit the circuit to the sampler\n",
    "job = estimator.run(circuits=[qc]*6, observables=[IZ, IX, ZI, XI, ZZ, XX], shots = 5000)\n",
    " \n",
    "# Once the job is complete, get the result\n",
    "job.result()"
   ]
  },
  {
   "cell_type": "markdown",
   "metadata": {},
   "source": [
    "Entiendo que el resultado ha sido el resultado de comparar el primer qbit y el segundo qbit (el primero en superposición y el segundo entrelazado cuanticamente con el primero a traves de compuerta CNot), 6 ejecuciones cada uno con diferentes giros en planos debido a Pauli, se hacen 5000 mediciones de cada circuito.\n",
    "\n",
    "Se puede ver como al girar un qbit en un eje da cercano a 0 puesto que se vuelven perpendiculares, en cambio cuando a ambos los giras se mantienen puesto que estan entrelazados."
   ]
  },
  {
   "cell_type": "code",
   "execution_count": 9,
   "metadata": {},
   "outputs": [],
   "source": [
    "import matplotlib.pyplot as plt\n",
    "import numpy as np\n",
    " \n",
    "# data\n",
    "data = ['IZ', 'IX', 'ZI', 'XI', 'ZZ', 'XX']\n",
    "values = job.result().values\n",
    " \n",
    "# creating error bars\n",
    "error = []\n",
    "for case in job.result().metadata:\n",
    "    error.append(2*np.sqrt(case['variance']/case['shots']))\n",
    " \n",
    "# plotting graph\n",
    "plt.plot(data, values)\n",
    "plt.errorbar(data, values, yerr = error, fmt ='o')\n",
    "plt.xlabel('Observables')\n",
    "plt.ylabel('Values')\n",
    "plt.show()"
   ]
  },
  {
   "cell_type": "markdown",
   "metadata": {},
   "source": [
    "El error es debido a que las mediciones cuánticas no son exactas y tienen cierto error."
   ]
  },
  {
   "cell_type": "code",
   "execution_count": 7,
   "metadata": {},
   "outputs": [
    {
     "name": "stdout",
     "output_type": "stream",
     "text": [
      "Imports Successful\n"
     ]
    }
   ],
   "source": [
    "import matplotlib.pyplot as plt\n",
    "import numpy as np\n",
    "from qiskit import QuantumCircuit, Aer, transpile\n",
    "from qiskit.visualization import plot_histogram\n",
    "from math import gcd\n",
    "from numpy.random import randint\n",
    "import pandas as pd\n",
    "from fractions import Fraction\n",
    "print(\"Imports Successful\")"
   ]
  },
  {
   "cell_type": "markdown",
   "metadata": {},
   "source": [
    "Prueba para demonstrar la inecualidad CHSH - Qiskit"
   ]
  },
  {
   "cell_type": "markdown",
   "metadata": {},
   "source": [
    "Importar librerias\n"
   ]
  },
  {
   "cell_type": "code",
   "execution_count": 8,
   "metadata": {},
   "outputs": [],
   "source": [
    "# General\n",
    "import numpy as np\n",
    "\n",
    "# Qiskit imports\n",
    "from qiskit import QuantumCircuit\n",
    "from qiskit.circuit import Parameter\n",
    "from qiskit.quantum_info import SparsePauliOp\n",
    "\n",
    "# Runtime imports\n",
    "from qiskit_ibm_runtime import QiskitRuntimeService, Estimator, Session\n",
    "\n",
    "# Plotting routines\n",
    "import matplotlib.pyplot as plt\n",
    "import matplotlib.ticker as tck"
   ]
  },
  {
   "cell_type": "markdown",
   "metadata": {},
   "source": [
    "Conectarse al Runtime de IBM"
   ]
  },
  {
   "cell_type": "code",
   "execution_count": 10,
   "metadata": {},
   "outputs": [
    {
     "data": {
      "text/plain": [
       "'ibmq_qasm_simulator'"
      ]
     },
     "execution_count": 10,
     "metadata": {},
     "output_type": "execute_result"
    }
   ],
   "source": [
    "# Add your token below\n",
    "service = QiskitRuntimeService(channel=\"ibm_quantum\")\n",
    "# Select the system with the fewest number of jobs in the queue\n",
    "backend = service.least_busy(simulator=True, operational=True)\n",
    "\n",
    "# Initialize your session\n",
    "session = Session(backend=backend)\n",
    "backend.name"
   ]
  },
  {
   "cell_type": "markdown",
   "metadata": {},
   "source": [
    "Crear el circuito CHSH, hadamard a un qubit, entrelazarlo mediante CX y una rotación con angulo theta en el eje Y."
   ]
  },
  {
   "cell_type": "code",
   "execution_count": 11,
   "metadata": {},
   "outputs": [
    {
     "data": {
      "image/png": "[encoded data removed]",
      "text/plain": [
       "<Figure size 370.906x200.667 with 1 Axes>"
      ]
     },
     "execution_count": 11,
     "metadata": {},
     "output_type": "execute_result"
    }
   ],
   "source": [
    "theta = Parameter(\"$\\\\theta$\")\n",
    "\n",
    "chsh_circuit_no_meas = QuantumCircuit(2)\n",
    "chsh_circuit_no_meas.h(0)\n",
    "chsh_circuit_no_meas.cx(0, 1)\n",
    "chsh_circuit_no_meas.ry(theta, 0)\n",
    "chsh_circuit_no_meas.draw(\"mpl\")"
   ]
  },
  {
   "cell_type": "markdown",
   "metadata": {},
   "source": [
    "Crear la lista de fases, angulos."
   ]
  },
  {
   "cell_type": "code",
   "execution_count": 12,
   "metadata": {},
   "outputs": [],
   "source": [
    "number_of_phases = 21\n",
    "phases = np.linspace(0, 2 * np.pi, number_of_phases)\n",
    "# Phases need to be expressed as list of lists in order to work\n",
    "individual_phases = [[ph] for ph in phases]"
   ]
  },
  {
   "cell_type": "markdown",
   "metadata": {},
   "source": [
    "Declarar los observables, en nuestro caso vamos a comprobar dos bases, formadas por el eje X y Z para comprobar CHSH."
   ]
  },
  {
   "cell_type": "code",
   "execution_count": 13,
   "metadata": {},
   "outputs": [],
   "source": [
    "ZZ = SparsePauliOp.from_list([(\"ZZ\", 1)])\n",
    "ZX = SparsePauliOp.from_list([(\"ZX\", 1)])\n",
    "XZ = SparsePauliOp.from_list([(\"XZ\", 1)])\n",
    "XX = SparsePauliOp.from_list([(\"XX\", 1)])\n",
    "\n",
    "ops = [ZZ, ZX, XZ, XX]\n",
    "num_ops = len(ops)"
   ]
  },
  {
   "cell_type": "markdown",
   "metadata": {},
   "source": [
    "Mandar al ordenador cuantico el circuito tantas veces como angulos y operaciones haya."
   ]
  },
  {
   "cell_type": "code",
   "execution_count": 14,
   "metadata": {},
   "outputs": [],
   "source": [
    "batch_circuits = [chsh_circuit_no_meas] * number_of_phases * num_ops\n",
    "batch_ops = [op for op in ops for _ in individual_phases]"
   ]
  },
  {
   "cell_type": "markdown",
   "metadata": {},
   "source": [
    "Resultados"
   ]
  },
  {
   "cell_type": "code",
   "execution_count": 15,
   "metadata": {},
   "outputs": [],
   "source": [
    "estimator = Estimator(session=session)\n",
    "\n",
    "batch_expvals = (\n",
    "    estimator.run(\n",
    "        batch_circuits, batch_ops, parameter_values=individual_phases * num_ops, shots=int(1e4)\n",
    "    )\n",
    "    .result()\n",
    "    .values\n",
    ")"
   ]
  },
  {
   "cell_type": "code",
   "execution_count": 16,
   "metadata": {},
   "outputs": [],
   "source": [
    "ZZ_expval, ZX_expval, XZ_expval, XX_expval = [\n",
    "    batch_expvals[kk * number_of_phases : (kk + 1) * number_of_phases] for kk in range(num_ops)\n",
    "]"
   ]
  },
  {
   "cell_type": "code",
   "execution_count": 17,
   "metadata": {},
   "outputs": [],
   "source": [
    "# <CHSH1> = <AB> - <Ab> + <aB> + <ab>\n",
    "chsh1_est = ZZ_expval - ZX_expval + XZ_expval + XX_expval\n",
    "\n",
    "# <CHSH2> = <AB> + <Ab> - <aB> + <ab>\n",
    "chsh2_est = ZZ_expval + ZX_expval - XZ_expval + XX_expval"
   ]
  },
  {
   "cell_type": "markdown",
   "metadata": {},
   "source": [
    "Plotearla"
   ]
  },
  {
   "cell_type": "code",
   "execution_count": 18,
   "metadata": {},
   "outputs": [
    {
     "data": {
      "text/plain": [
       "<matplotlib.legend.Legend at 0x29999ace4d0>"
      ]
     },
     "execution_count": 18,
     "metadata": {},
     "output_type": "execute_result"
    },
    {
     "data": {
      "image/png": "[encoded data removed]",
      "text/plain": [
       "<Figure size 1000x600 with 1 Axes>"
      ]
     },
     "metadata": {},
     "output_type": "display_data"
    }
   ],
   "source": [
    "fig, ax = plt.subplots(figsize=(10, 6))\n",
    "# results from hardware\n",
    "ax.plot(phases / np.pi, chsh1_est, \"o-\", label=\"CHSH1\", zorder=3)\n",
    "ax.plot(phases / np.pi, chsh2_est, \"o-\", label=\"CHSH2\", zorder=3)\n",
    "# classical bound +-2\n",
    "ax.axhline(y=2, color=\"0.9\", linestyle=\"--\")\n",
    "ax.axhline(y=-2, color=\"0.9\", linestyle=\"--\")\n",
    "# quantum bound, +-2√2\n",
    "ax.axhline(y=np.sqrt(2) * 2, color=\"0.9\", linestyle=\"-.\")\n",
    "ax.axhline(y=-np.sqrt(2) * 2, color=\"0.9\", linestyle=\"-.\")\n",
    "ax.fill_between(phases / np.pi, 2, 2 * np.sqrt(2), color=\"0.6\", alpha=0.7)\n",
    "ax.fill_between(phases / np.pi, -2, -2 * np.sqrt(2), color=\"0.6\", alpha=0.7)\n",
    "# set x tick labels to the unit of pi\n",
    "ax.xaxis.set_major_formatter(tck.FormatStrFormatter(\"%g $\\pi$\"))\n",
    "ax.xaxis.set_major_locator(tck.MultipleLocator(base=0.5))\n",
    "# set title, labels, and legend\n",
    "plt.title(f\"Violation of CHSH Inequality\")\n",
    "plt.xlabel(\"Theta\")\n",
    "plt.ylabel(\"CHSH witness\")\n",
    "plt.legend()"
   ]
  },
  {
   "cell_type": "markdown",
   "metadata": {},
   "source": [
    "¿Que hemos logrado?\n",
    "\n",
    "Hemos comprobado que la mecanica cuantica no funciona con varbiables ocultas debido al entrelazamiento rompiendo la inecualidad CHSH.\n",
    "\n",
    "La idea detrás de la desigualdad CHSH es establecer una relación entre las mediciones de partículas entrelazadas en diferentes configuraciones de observación. En el experimento, se crean dos partículas entrelazadas y se realizan mediciones en cada una de ellas en dos bases diferentes, que se etiquetan como A, a, B y b. Cada una de estas observaciones puede arrojar un valor de +1 o -1.\n",
    "\n",
    "La desigualdad CHSH se define a través de dos cantidades, S1 y S2, como se describe en tu pregunta:\n",
    "\n",
    "S1 = A(B - b) + a(B + b)\n",
    "S2 = A(B + b) - a(B - b)\n",
    "\n",
    "Donde:\n",
    "\n",
    "A, a, B y b son los resultados de las mediciones en las bases A, a, B y b, respectivamente.\n",
    "La desigualdad CHSH establece que la magnitud del valor esperado de S1 y S2, denotado como ⟨S1⟩ y ⟨S2⟩, debe ser menor o igual a 2:\n",
    "\n",
    "|⟨S1⟩| ≤ 2\n",
    "|⟨S2⟩| ≤ 2\n",
    "\n",
    "Para comprender la no localidad cuántica, es importante notar que, en la mecánica cuántica, las partículas entrelazadas pueden estar correlacionadas de una manera que no puede ser explicada por la teoría de variables ocultas locales. Esto se debe a que en la mecánica cuántica, las partículas pueden estar en un estado de superposición de múltiples propiedades y, cuando se mide una de ellas, la propiedad de la otra partícula se colapsa instantáneamente en un estado correlacionado. Esto va más allá de lo que se puede explicar en una teoría local de variables ocultas, donde las propiedades ya están definidas de antemano y no pueden cambiar instantáneamente debido a la medición en la otra partícula. Por lo tanto, la no localidad cuántica se verifica mediante la observación de correlaciones cuánticas que violan la expectativa de teorías locales de variables ocultas.\n",
    "\n",
    "Preparación del estado entrelazado:\n",
    "Comencemos con un par de qubits entrelazados en el estado de Bell |Φ⁺⟩:\n",
    "\n",
    "|Φ⁺⟩ = (|00⟩ + |11⟩) / √2\n",
    "\n",
    "Esto significa que las dos partículas están en un estado cuántico entrelazado en el que, si medimos una partícula en un estado específico, sabremos instantáneamente el estado de la otra partícula.\n",
    "\n",
    "Elección de Bases de Medición:\n",
    "Elegimos dos bases de medición para cada qubit. Por ejemplo, usaremos las bases Z (vertical) y X (horizontal) para ambas partículas.\n",
    "\n",
    "Medición de las Correlaciones:\n",
    "Realizamos mediciones en cada qubit en las bases seleccionadas. Por ejemplo, si medimos el primer qubit en la base Z y obtenemos +1, y medimos el segundo qubit en la base X y obtenemos -1, registramos estos resultados.\n",
    "\n",
    "Cálculo de los Valores Esperados:\n",
    "Usamos los resultados de las mediciones para calcular los valores esperados de los observables que representan las correlaciones entre las partículas. En este caso, calcularemos los valores esperados de los observables ZX, XZ, XX y ZZ, que representan las correlaciones entre los qubits en las bases seleccionadas.\n",
    "\n",
    "Verificación de la Desigualdad CHSH:\n",
    "Utilizamos la desigualdad CHSH, que se ve así:\n",
    "\n",
    "|⟨ZX⟩ + ⟨XZ⟩ + ⟨XX⟩ - ⟨ZZ⟩| ≤ 2\n",
    "\n",
    "Si los valores esperados de los observables cumplen con esta desigualdad, entonces se dice que los resultados son consistentes con teorías locales de variables ocultas, lo que significa que las partículas están correlacionadas de una manera que puede explicarse mediante teorías locales de variables ocultas.\n",
    "\n",
    "Violación de la Desigualdad CHSH:\n",
    "Sin embargo, en experimentos cuánticos, se ha demostrado que la desigualdad CHSH se viola. Esto significa que los resultados de las mediciones muestran correlaciones que no pueden ser explicadas mediante teorías locales de variables ocultas. Las partículas están correlacionadas de una manera que desafía la noción de localidad en la física clásica.\n",
    "\n",
    "En cambio al graficarlo podemos ver que llega al valor de 3 y -3."
   ]
  },
  {
   "cell_type": "markdown",
   "metadata": {},
   "source": [
    "Variational quantum Eigensolver"
   ]
  }
 ],
 "metadata": {
  "kernelspec": {
   "display_name": ".venv",
   "language": "python",
   "name": "python3"
  },
  "language_info": {
   "codemirror_mode": {
    "name": "ipython",
    "version": 3
   },
   "file_extension": ".py",
   "mimetype": "text/x-python",
   "name": "python",
   "nbconvert_exporter": "python",
   "pygments_lexer": "ipython3",
   "version": "3.11.6"
  }
 },
 "nbformat": 4,
 "nbformat_minor": 2
}
