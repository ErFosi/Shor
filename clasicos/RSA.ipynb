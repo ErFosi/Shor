{
 "cells": [
  {
   "cell_type": "markdown",
   "metadata": {},
   "source": [
    "Funciones y librerias necesarias"
   ]
  },
  {
   "cell_type": "code",
   "execution_count": 51,
   "metadata": {},
   "outputs": [],
   "source": [
    "import math\n",
    "from cryptography.hazmat.primitives import serialization\n",
    "from cryptography.hazmat.primitives.asymmetric import rsa, padding\n",
    "from cryptography.fernet import Fernet\n",
    "from cryptography.hazmat.primitives import hashes\n",
    "from cryptography.hazmat.primitives.asymmetric.utils import Prehashed\n",
    "import random\n",
    "def gcd(a,b):\n",
    "    if b==0:\n",
    "        return a\n",
    "    else:\n",
    "        return gcd(b,a%b)\n",
    "# Encryption function\n",
    "def encrypt(plain_text):\n",
    "    return (plain_text ** e) % n\n",
    "\n",
    "# Decryption function\n",
    "def decrypt(cipher_text):\n",
    "    return (cipher_text ** d) % n \n",
    "def coprimo(numero):\n",
    "    while True:\n",
    "        candidato = random.randint(2, numero - 1)\n",
    "        if math.gcd(numero, candidato) == 1:\n",
    "            return candidato "
   ]
  },
  {
   "cell_type": "markdown",
   "metadata": {},
   "source": [
    "Partiendo de una clave publica (e, n)=(5, 247)"
   ]
  },
  {
   "cell_type": "code",
   "execution_count": 109,
   "metadata": {},
   "outputs": [
    {
     "name": "stdout",
     "output_type": "stream",
     "text": [
      "Checked 47053 and 35611 are coprime\n"
     ]
    }
   ],
   "source": [
    "n = 211*223 # modulo\n",
    "e = 65547    # numero de la clave publica\n",
    "a = coprimo(n)   # un coprimo de n\n",
    "assert gcd(a, n) == 1\n",
    "print(f\"Checked {n} and {a} are coprime\")"
   ]
  },
  {
   "cell_type": "markdown",
   "metadata": {},
   "source": [
    "Buscr el periodo tal que 2^periodo mod 1073 de 1"
   ]
  },
  {
   "cell_type": "code",
   "execution_count": 110,
   "metadata": {},
   "outputs": [
    {
     "name": "stdout",
     "output_type": "stream",
     "text": [
      "period r is: 7770\n",
      "Checked 35611^7770 mod 47053 is 1\n"
     ]
    }
   ],
   "source": [
    "r=0\n",
    "rem = 100\n",
    "while(rem != 1):\n",
    "    r += 1\n",
    "    rem = (a**r) % n\n",
    "    \n",
    "print(f'period r is: {r}')\n",
    "assert a**r % n == 1\n",
    "if(a**r % n == 1):\n",
    "    print(f\"Checked {a}^{r} mod {n} is 1\")\n",
    "else:\n",
    "    print(\"No son coprimos\")"
   ]
  },
  {
   "cell_type": "markdown",
   "metadata": {},
   "source": [
    "Computamos la siguiente formula:f1=(a^r/2 −1),f(a^r/2+1)"
   ]
  },
  {
   "cell_type": "code",
   "execution_count": null,
   "metadata": {},
   "outputs": [],
   "source": []
  },
  {
   "cell_type": "code",
   "execution_count": 116,
   "metadata": {},
   "outputs": [
    {
     "name": "stdout",
     "output_type": "stream",
     "text": [
      "f1 = 39246\n",
      "f2 = 39248\n"
     ]
    }
   ],
   "source": [
    "# explicitly use as integer\n",
    "f1 = pow(a, r // 2, n) - 1\n",
    "f2 = pow(a, r // 2, n) + 1\n",
    "\n",
    "print(f\"f1 = {f1}\")\n",
    "print(f\"f2 = {f2}\")"
   ]
  },
  {
   "cell_type": "markdown",
   "metadata": {},
   "source": [
    "Buscar el comun divisor con 1073 de cada uno para obtener cada factor"
   ]
  },
  {
   "cell_type": "code",
   "execution_count": 94,
   "metadata": {},
   "outputs": [
    {
     "name": "stdout",
     "output_type": "stream",
     "text": [
      "One possible prime factor of n (6887) is: 1\n",
      "The second prime factor of n (6887) is: 6887\n",
      "Toca volver a empezar\n",
      "One possible prime factor of n (1073) is: 1\n",
      "The second prime factor of n (1073) is: 1073\n",
      "Toca volver a empezar\n",
      "One possible prime factor of n (1073) is: 1\n",
      "The second prime factor of n (1073) is: 1073\n",
      "Toca volver a empezar\n",
      "One possible prime factor of n (1073) is: 1\n",
      "The second prime factor of n (1073) is: 1073\n",
      "Toca volver a empezar\n",
      "One possible prime factor of n (1073) is: 1\n",
      "The second prime factor of n (1073) is: 1073\n",
      "Toca volver a empezar\n",
      "One possible prime factor of n (1073) is: 1\n",
      "The second prime factor of n (1073) is: 1073\n",
      "Toca volver a empezar\n",
      "One possible prime factor of n (1073) is: 1\n",
      "The second prime factor of n (1073) is: 1073\n",
      "Toca volver a empezar\n",
      "One possible prime factor of n (1073) is: 37\n",
      "The second prime factor of n (1073) is: 29\n"
     ]
    }
   ],
   "source": [
    "q_found = gcd(f1, n)\n",
    "print(f'One possible prime factor of n ({n}) is: {q_found}')\n",
    "\n",
    "# explicit int (to avoid floating point)\n",
    "p_found = int ( n/q_found )\n",
    "print(f'The second prime factor of n ({n}) is: {p_found}')\n",
    "while (q_found==1 or p_found==1):\n",
    "    try:\n",
    "        #\n",
    "        n = n  # modulo\n",
    "        e = 65547    # numero de la clave publica\n",
    "        a = coprimo(n)   # un coprimo de n\n",
    "        assert gcd(a, n) == 1\n",
    "        r=0\n",
    "        rem = 100\n",
    "        while(rem != 1):\n",
    "            r += 1\n",
    "            rem = (a**r) % n\n",
    "            \n",
    "       \n",
    "        assert a**r % n == 1\n",
    "       \n",
    "        # explicitly use as integer\n",
    "        f1 = pow(a, r // 2, n) - 1\n",
    "        f2 = pow(a, r // 2, n) + 1\n",
    "        q_found = gcd(f1, n)\n",
    "        print(\"Toca volver a empezar\")\n",
    "        print(f'One possible prime factor of n ({n}) is: {q_found}')\n",
    "\n",
    "        # explicit int (to avoid floating point)\n",
    "        p_found = int ( n/q_found )\n",
    "        print(f'The second prime factor of n ({n}) is: {p_found}')\n",
    "    except Exception as e:\n",
    "        p_found=1\n",
    "    #print(f\"f1 = {f1}\")\n",
    "    #print(f\"f2 = {f2}\")\n",
    "assert n == p_found * q_found"
   ]
  },
  {
   "cell_type": "code",
   "execution_count": 119,
   "metadata": {},
   "outputs": [
    {
     "name": "stdout",
     "output_type": "stream",
     "text": [
      "Toca volver a empezar\n",
      "One possible prime factor of n (433327) is: 751\n",
      "The second prime factor of n (433327) is: 577\n"
     ]
    },
    {
     "ename": "",
     "evalue": "",
     "output_type": "error",
     "traceback": [
      "\u001b[1;31mThe Kernel crashed while executing code in the the current cell or a previous cell. Please review the code in the cell(s) to identify a possible cause of the failure. Click <a href='https://aka.ms/vscodeJupyterKernelCrash'>here</a> for more info. View Jupyter <a href='command:jupyter.viewOutput'>log</a> for further details."
     ]
    }
   ],
   "source": [
    "q_found=1\n",
    "p_found=1\n",
    "while (q_found==1 or p_found==1):\n",
    "    try:\n",
    "        #\n",
    "        n = 577*751  # modulo\n",
    "        e = 7    # numero de la clave publica\n",
    "        a = coprimo(n)   # un coprimo de n\n",
    "        assert gcd(a, n) == 1\n",
    "        r=0\n",
    "        rem = 100\n",
    "        while(rem != 1):\n",
    "            r += 1\n",
    "            rem = (a**r) % n\n",
    "            \n",
    "       \n",
    "        assert a**r % n == 1\n",
    "       \n",
    "        # explicitly use as integer\n",
    "        f1 = pow(a, r // 2, n) - 1\n",
    "        f2 = pow(a, r // 2, n) + 1\n",
    "        q_found = gcd(f1, n)\n",
    "        print(\"Toca volver a empezar\")\n",
    "        print(f'One possible prime factor of n ({n}) is: {q_found}')\n",
    "\n",
    "        # explicit int (to avoid floating point)\n",
    "        p_found = int ( n/q_found )\n",
    "        print(f'The second prime factor of n ({n}) is: {p_found}')\n",
    "    except Exception as e:\n",
    "        p_found=1\n",
    "    #print(f\"f1 = {f1}\")\n",
    "    #print(f\"f2 = {f2}\")\n",
    "assert n == p_found * q_found"
   ]
  },
  {
   "cell_type": "code",
   "execution_count": 104,
   "metadata": {},
   "outputs": [
    {
     "name": "stdout",
     "output_type": "stream",
     "text": [
      "One possible prime factor of n (7081) is: 73\n",
      "The second prime factor of n (7081) is: 97\n"
     ]
    }
   ],
   "source": [
    "q_found = gcd(f1, n)\n",
    "print(f'One possible prime factor of n ({n}) is: {q_found}')\n",
    "\n",
    "# explicit int (to avoid floating point)\n",
    "p_found = int ( n/q_found )\n",
    "print(f'The second prime factor of n ({n}) is: {p_found}')\n",
    "\n",
    "assert n == p_found * q_found"
   ]
  },
  {
   "cell_type": "code",
   "execution_count": 105,
   "metadata": {},
   "outputs": [
    {
     "name": "stdout",
     "output_type": "stream",
     "text": [
      "The totient is: 6912\n",
      "Private Key number: 1975\n"
     ]
    }
   ],
   "source": [
    "#Compute the totient\n",
    "phi_found = ( p_found -1 ) * ( q_found - 1 ) \n",
    "print(f'The totient is: {phi_found}')\n",
    "\n",
    "#Recover the private key number d_found by satisfying (d_found * e) % phi_found = 1\n",
    "d_found = 1\n",
    "while(True):\n",
    "    if((d_found*e) % phi_found == 1):\n",
    "        break\n",
    "    else:\n",
    "        d_found += 1\n",
    "print(\"Private Key number:\",d_found)"
   ]
  }
 ],
 "metadata": {
  "kernelspec": {
   "display_name": ".venv",
   "language": "python",
   "name": "python3"
  },
  "language_info": {
   "codemirror_mode": {
    "name": "ipython",
    "version": 3
   },
   "file_extension": ".py",
   "mimetype": "text/x-python",
   "name": "python",
   "nbconvert_exporter": "python",
   "pygments_lexer": "ipython3",
   "version": "3.11.6"
  }
 },
 "nbformat": 4,
 "nbformat_minor": 2
}
