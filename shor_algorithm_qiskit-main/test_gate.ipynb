{
 "cells": [
  {
   "cell_type": "code",
   "execution_count": 1,
   "metadata": {
    "scrolled": true
   },
   "outputs": [
    {
     "ename": "MissingOptionalLibraryError",
     "evalue": "\"The 'qiskit-aer' library is required to use 'Aer provider'. You can install it with 'pip install qiskit-aer'.\"",
     "output_type": "error",
     "traceback": [
      "\u001b[1;31m---------------------------------------------------------------------------\u001b[0m",
      "\u001b[1;31mImportError\u001b[0m                               Traceback (most recent call last)",
      "File \u001b[1;32mc:\\Users\\adiezandino\\Downloads\\shor_algorithm_qiskit-main\\shor_algorithm_qiskit-main\\.venv\\Lib\\site-packages\\qiskit\\__init__.py:123\u001b[0m, in \u001b[0;36mAerWrapper.__getattr__\u001b[1;34m(self, attr)\u001b[0m\n\u001b[0;32m    122\u001b[0m \u001b[38;5;28;01mtry\u001b[39;00m:\n\u001b[1;32m--> 123\u001b[0m     \u001b[38;5;28;01mfrom\u001b[39;00m \u001b[38;5;21;01mqiskit\u001b[39;00m\u001b[38;5;21;01m.\u001b[39;00m\u001b[38;5;21;01mproviders\u001b[39;00m \u001b[38;5;28;01mimport\u001b[39;00m aer\n\u001b[0;32m    125\u001b[0m     \u001b[38;5;28mself\u001b[39m\u001b[38;5;241m.\u001b[39maer \u001b[38;5;241m=\u001b[39m aer\u001b[38;5;241m.\u001b[39mAer\n",
      "\u001b[1;31mImportError\u001b[0m: cannot import name 'aer' from 'qiskit.providers' (c:\\Users\\adiezandino\\Downloads\\shor_algorithm_qiskit-main\\shor_algorithm_qiskit-main\\.venv\\Lib\\site-packages\\qiskit\\providers\\__init__.py)",
      "\nThe above exception was the direct cause of the following exception:\n",
      "\u001b[1;31mMissingOptionalLibraryError\u001b[0m               Traceback (most recent call last)",
      "Cell \u001b[1;32mIn[1], line 8\u001b[0m\n\u001b[0;32m      5\u001b[0m \u001b[38;5;66;03m# import pytest\u001b[39;00m\n\u001b[0;32m      6\u001b[0m \u001b[38;5;28;01mfrom\u001b[39;00m \u001b[38;5;21;01mqiskit\u001b[39;00m \u001b[38;5;28;01mimport\u001b[39;00m Aer\n\u001b[1;32m----> 8\u001b[0m backend \u001b[38;5;241m=\u001b[39m \u001b[43mAer\u001b[49m\u001b[38;5;241;43m.\u001b[39;49m\u001b[43mget_backend\u001b[49m(\u001b[38;5;124m'\u001b[39m\u001b[38;5;124mqasm_simulator\u001b[39m\u001b[38;5;124m'\u001b[39m)\n\u001b[0;32m      9\u001b[0m c \u001b[38;5;241m=\u001b[39m q\u001b[38;5;241m.\u001b[39mQuantumCircuit()\n\u001b[0;32m     10\u001b[0m \u001b[38;5;124;03m\"\"\"\u001b[39;00m\n\u001b[0;32m     11\u001b[0m \u001b[38;5;124;03mx is the exponent and it is initialized with H gate, thus it covers all values from 0 to 2^{n} - 1\u001b[39;00m\n\u001b[0;32m     12\u001b[0m \u001b[38;5;124;03ma is the guess done\u001b[39;00m\n\u001b[0;32m     13\u001b[0m \u001b[38;5;124;03mN is the coprime number\u001b[39;00m\n\u001b[0;32m     14\u001b[0m \u001b[38;5;124;03m\"\"\"\u001b[39;00m\n",
      "File \u001b[1;32mc:\\Users\\adiezandino\\Downloads\\shor_algorithm_qiskit-main\\shor_algorithm_qiskit-main\\.venv\\Lib\\site-packages\\qiskit\\__init__.py:134\u001b[0m, in \u001b[0;36mAerWrapper.__getattr__\u001b[1;34m(self, attr)\u001b[0m\n\u001b[0;32m    126\u001b[0m         warnings\u001b[38;5;241m.\u001b[39mwarn(\n\u001b[0;32m    127\u001b[0m             \u001b[38;5;124m\"\u001b[39m\u001b[38;5;124mThe qiskit.Aer entry point will be deprecated in a future release and \u001b[39m\u001b[38;5;124m\"\u001b[39m\n\u001b[0;32m    128\u001b[0m             \u001b[38;5;124m\"\u001b[39m\u001b[38;5;124msubsequently removed. Instead you should use this \u001b[39m\u001b[38;5;124m\"\u001b[39m\n\u001b[1;32m   (...)\u001b[0m\n\u001b[0;32m    131\u001b[0m             stacklevel\u001b[38;5;241m=\u001b[39m\u001b[38;5;241m2\u001b[39m,\n\u001b[0;32m    132\u001b[0m         )\n\u001b[0;32m    133\u001b[0m     \u001b[38;5;28;01mexcept\u001b[39;00m \u001b[38;5;167;01mImportError\u001b[39;00m \u001b[38;5;28;01mas\u001b[39;00m ex:\n\u001b[1;32m--> 134\u001b[0m         \u001b[38;5;28;01mraise\u001b[39;00m MissingOptionalLibraryError(\n\u001b[0;32m    135\u001b[0m             \u001b[38;5;124m\"\u001b[39m\u001b[38;5;124mqiskit-aer\u001b[39m\u001b[38;5;124m\"\u001b[39m, \u001b[38;5;124m\"\u001b[39m\u001b[38;5;124mAer provider\u001b[39m\u001b[38;5;124m\"\u001b[39m, \u001b[38;5;124m\"\u001b[39m\u001b[38;5;124mpip install qiskit-aer\u001b[39m\u001b[38;5;124m\"\u001b[39m\n\u001b[0;32m    136\u001b[0m         ) \u001b[38;5;28;01mfrom\u001b[39;00m \u001b[38;5;21;01mex\u001b[39;00m\n\u001b[0;32m    137\u001b[0m \u001b[38;5;28;01mreturn\u001b[39;00m \u001b[38;5;28mgetattr\u001b[39m(\u001b[38;5;28mself\u001b[39m\u001b[38;5;241m.\u001b[39maer, attr)\n",
      "\u001b[1;31mMissingOptionalLibraryError\u001b[0m: \"The 'qiskit-aer' library is required to use 'Aer provider'. You can install it with 'pip install qiskit-aer'.\""
     ]
    }
   ],
   "source": [
    "import qiskit as q\n",
    "import numpy as np\n",
    "from gates import *\n",
    "from handler import nb_to_reg, keys_to_nb, size\n",
    "# import pytest\n",
    "from qiskit import Aer\n",
    "\n",
    "backend = Aer.get_backend('qasm_simulator')\n",
    "c = q.QuantumCircuit()\n",
    "\"\"\"\n",
    "x is the exponent and it is initialized with H gate, thus it covers all values from 0 to 2^{n} - 1\n",
    "a is the guess done\n",
    "N is the coprime number\n",
    "\"\"\"\n",
    "a, x, N, n = size([3, 2, 6])\n",
    "# if n1+n2>n*N:\n",
    "#     print(\"The program currently does not support modulos that complex\")\n",
    "print(f'The main registers contain {n} qubits each')\n",
    "regx, c = nb_to_reg(a, c, name=\"a_{reg}\", size=n) #I dont think a is inputed here\n",
    "regX, c = nb_to_reg(x, c, name=\"x_{reg}\", size=n)\n",
    "# reg2, c = nb_to_reg(x, c, name=\"z_{reg}\", size=n)\n",
    "reg2 = q.QuantumRegister(n, name='reg_0')\n",
    "c.add_register(reg2)\n",
    "\n",
    "regN, c = nb_to_reg(N, c, name=\"capn_{reg}\", size=n)\n",
    "reg1 = q.QuantumRegister(n, name='reg_1')\n",
    "regN_ctrl = q.QuantumRegister(n, name='n_ctrl')\n",
    "ancil = q.QuantumRegister(n+2, name='ancillae')\n",
    "meas1 = q.ClassicalRegister(n, name='a_{meas}')\n",
    "meas2 = q.ClassicalRegister(n, name='b_{meas}')\n",
    "c.add_register(reg1, regN_ctrl, ancil, meas1, meas2)\n",
    "\n",
    "# c = Adder_mod(c, reg1, reg2, regN, regN_ctrl, ancil)\n",
    "\n",
    "c = Ctrl_mod(c, regx, reg1, regX[1], reg2, regN, regN_ctrl, ancil, reverse=False)\n",
    "# c = Exp_mod(c, regx, reg1, regX, reg2, regN, regN_ctrl, ancil_ctrl)\n",
    "c.measure_all()\n",
    "job = q.execute(c, backend=backend, shots=1)\n",
    "out = job.result().get_counts(c)\n",
    "print(keys_to_nb(out, size=n, nb_keys=2))\n",
    "print(out)\n",
    "# print((a**x)%N)\n",
    "print((x*a)%N)\n"
   ]
  },
  {
   "cell_type": "markdown",
   "metadata": {},
   "source": [
    "#### Test the ctrl_mod because I made some change with the adder_mod reverse, so it might work now. Make the test function straight away as it will allow me to clarify what are the input and figure out what a**x are!"
   ]
  },
  {
   "cell_type": "code",
   "execution_count": null,
   "metadata": {},
   "outputs": [],
   "source": [
    "\n",
    "\n",
    "\n",
    "\n",
    "# import csv\n",
    "\n",
    "# w = csv.writer(open(\"output3.csv\", \"w\"))\n",
    "# for key, val in table.items():\n",
    "#     w.writerow([key, val])\n",
    "\n",
    "# c.draw(output='text', scale=1, filename='circuit.png', interactive=False, plot_barriers=True, reverse_bits=False, justify=None, vertical_compression='high', idle_wires=True, with_layout=True, fold=-1, ax=None, initial_state=True, cregbundle=False)\n",
    "\n",
    "def test_Sum(Sum):\n",
    "    c = q.QuantumCircuit(3)\n",
    "    for i in [0,1,2,0,1,2,1]:\n",
    "        c.x(i)\n",
    "        c.measure_all()\n",
    "\n",
    "    job = q.execute(c, backend=backend, shots=100)\n",
    "    inp = job.result().get_counts(c)\n",
    "    inp = list(inp)[0].split(\" \")\n",
    "    \n",
    "    c = q.QuantumCircuit(3)\n",
    "    for i in [0,1,2,0,1,2,1]:\n",
    "        c.x(i)\n",
    "        c = Sum(c, [0, 1, 2])\n",
    "        c.measure_all()\n",
    "\n",
    "    job = q.execute(c, backend=backend, shots=100)\n",
    "    out = job.result().get_counts(c)\n",
    "    out = list(out)[0].split(\" \")\n",
    "    \n",
    "\n",
    "# def test_Carry(Carry):\n",
    "        \n",
    "\n",
    "\n"
   ]
  },
  {
   "cell_type": "code",
   "execution_count": 42,
   "metadata": {},
   "outputs": [
    {
     "data": {
      "text/plain": [
       "5"
      ]
     },
     "execution_count": 42,
     "metadata": {},
     "output_type": "execute_result"
    }
   ],
   "source": [
    "np.random.randint(4, 6)"
   ]
  },
  {
   "cell_type": "code",
   "execution_count": 4,
   "metadata": {},
   "outputs": [
    {
     "ename": "TypeError",
     "evalue": "unsupported operand type(s) for -: 'int' and 'range'",
     "output_type": "error",
     "traceback": [
      "\u001b[1;31m---------------------------------------------------------------------------\u001b[0m",
      "\u001b[1;31mTypeError\u001b[0m                                 Traceback (most recent call last)",
      "\u001b[1;32m<ipython-input-4-8655aebb3fb3>\u001b[0m in \u001b[0;36m<module>\u001b[1;34m\u001b[0m\n\u001b[1;32m----> 1\u001b[1;33m \u001b[0mlist\u001b[0m\u001b[1;33m(\u001b[0m\u001b[0mrange\u001b[0m\u001b[1;33m(\u001b[0m\u001b[1;36m4\u001b[0m\u001b[1;33m)\u001b[0m\u001b[1;33m)\u001b[0m\u001b[1;33m[\u001b[0m\u001b[1;33m(\u001b[0m\u001b[1;36m5\u001b[0m\u001b[1;33m-\u001b[0m\u001b[0mrange\u001b[0m\u001b[1;33m(\u001b[0m\u001b[1;36m4\u001b[0m\u001b[1;33m)\u001b[0m\u001b[1;33m)\u001b[0m\u001b[1;33m]\u001b[0m\u001b[1;33m\u001b[0m\u001b[1;33m\u001b[0m\u001b[0m\n\u001b[0m",
      "\u001b[1;31mTypeError\u001b[0m: unsupported operand type(s) for -: 'int' and 'range'"
     ]
    }
   ],
   "source": [
    "list(range(4))[(5-range(4))]"
   ]
  },
  {
   "cell_type": "code",
   "execution_count": 140,
   "metadata": {},
   "outputs": [],
   "source": [
    "n1, n2 = np.sort([np.random.randint(1, int(8/2)), np.random.randint(1, int(8/2))])"
   ]
  }
 ],
 "metadata": {
  "kernelspec": {
   "display_name": "Python 3",
   "language": "python",
   "name": "python3"
  },
  "language_info": {
   "codemirror_mode": {
    "name": "ipython",
    "version": 3
   },
   "file_extension": ".py",
   "mimetype": "text/x-python",
   "name": "python",
   "nbconvert_exporter": "python",
   "pygments_lexer": "ipython3",
   "version": "3.11.7"
  }
 },
 "nbformat": 4,
 "nbformat_minor": 4
}
